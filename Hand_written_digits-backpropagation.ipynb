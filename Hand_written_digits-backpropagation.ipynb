{
 "cells": [
  {
   "cell_type": "code",
   "execution_count": 1,
   "metadata": {},
   "outputs": [],
   "source": [
    "import matplotlib.pyplot as plt\n",
    "import numpy as np\n",
    "import tensorflow as tf\n",
    "from tensorflow.python.framework import ops\n",
    "ops.reset_default_graph()\n",
    "from sklearn.datasets import load_digits\n",
    "from sklearn.model_selection import train_test_split\n",
    "from sklearn.preprocessing import MinMaxScaler\n",
    "import pandas as pd"
   ]
  },
  {
   "cell_type": "code",
   "execution_count": 15,
   "metadata": {},
   "outputs": [
    {
     "name": "stdout",
     "output_type": "stream",
     "text": [
      "dict_keys(['data', 'target', 'target_names', 'images', 'DESCR'])\n"
     ]
    }
   ],
   "source": [
    "#ops.reset_default_graph()\n",
    "#load data\n",
    "mnist = load_digits()\n",
    "print(mnist.keys())"
   ]
  },
  {
   "cell_type": "code",
   "execution_count": 16,
   "metadata": {},
   "outputs": [
    {
     "name": "stdout",
     "output_type": "stream",
     "text": [
      "(1797, 64)\n",
      "(1797,)\n"
     ]
    }
   ],
   "source": [
    "#create features\n",
    "x = mnist['data']\n",
    "\n",
    "#create target\n",
    "y = mnist['target']\n",
    "print(x.shape)\n",
    "print(y.shape)"
   ]
  },
  {
   "cell_type": "code",
   "execution_count": 18,
   "metadata": {},
   "outputs": [
    {
     "data": {
      "image/png": "[encoded data removed]",
      "text/plain": [
       "<Figure size 432x288 with 1 Axes>"
      ]
     },
     "metadata": {
      "needs_background": "light"
     },
     "output_type": "display_data"
    }
   ],
   "source": [
    "#Create graph session \n",
    "sess = tf.Session()\n",
    "# Set Seed\n",
    "seed = 3\n",
    "tf.set_random_seed(seed)\n",
    "np.random.seed(seed)\n",
    "plt.hist(mnist['target'][:100],30)\n",
    "plt.title('MNIST LABELS FIRST 100')\n",
    "plt.show()\n"
   ]
  },
  {
   "cell_type": "code",
   "execution_count": 22,
   "metadata": {},
   "outputs": [
    {
     "name": "stderr",
     "output_type": "stream",
     "text": [
      "C:\\Users\\USER\\Anaconda3\\envs\\intuitive-deep-learning\\lib\\site-packages\\ipykernel_launcher.py:6: FutureWarning: arrays to stack must be passed as a \"sequence\" type such as list or tuple. Support for non-sequence iterables such as generators is deprecated as of NumPy 1.16 and will raise an error in the future.\n",
      "  \n",
      "C:\\Users\\USER\\Anaconda3\\envs\\intuitive-deep-learning\\lib\\site-packages\\ipykernel_launcher.py:7: FutureWarning: arrays to stack must be passed as a \"sequence\" type such as list or tuple. Support for non-sequence iterables such as generators is deprecated as of NumPy 1.16 and will raise an error in the future.\n",
      "  import sys\n"
     ]
    },
    {
     "data": {
      "image/png": "[encoded data removed]",
      "text/plain": [
       "<Figure size 432x288 with 1 Axes>"
      ]
     },
     "metadata": {
      "needs_background": "light"
     },
     "output_type": "display_data"
    },
    {
     "name": "stdout",
     "output_type": "stream",
     "text": [
      "[0 1 2 3 4 5 6 7 8 9]\n",
      "(100, 10)\n",
      "(100, 10)\n"
     ]
    }
   ],
   "source": [
    "dict1 = {}\n",
    "dict2 = {}\n",
    "for i in range(10):\n",
    "    dict1[i] = x[np.where(mnist['target'] == i)][:10]\n",
    "    dict2[i] = mnist['target'] [np.where(mnist['target'] == i)][:10]\n",
    "x_v = np.vstack(i for i in dict1.values())#contains 10 sample images for 10 class\n",
    "y_v = np.hstack(j for j in dict2.values())\n",
    "\n",
    "plt.hist(y_v,30)\n",
    "plt.title('MNIST LABELS 10 LABELS FOR EACH CLASS')\n",
    "plt.show()\n",
    "\n",
    "\n",
    "print(np.unique(y))\n",
    "df = pd.DataFrame({'Labels':y_v})\n",
    "y_ = pd.get_dummies(df['Labels'])\n",
    "print(y_.shape)\n",
    "y = y_.values\n",
    "print(y.shape)"
   ]
  },
  {
   "cell_type": "code",
   "execution_count": 23,
   "metadata": {},
   "outputs": [
    {
     "name": "stdout",
     "output_type": "stream",
     "text": [
      "x_vals_train shape :\n",
      "\n",
      "(80, 64)\n",
      "x_vals_test shape :\n",
      "\n",
      "(20, 64)\n",
      "y_vals_train shape :\n",
      "\n",
      "(80, 10)\n",
      "y_vals_test shape :\n",
      "\n",
      "(20, 10)\n"
     ]
    },
    {
     "data": {
      "image/png": "[encoded data removed]",
      "text/plain": [
       "<Figure size 432x288 with 1 Axes>"
      ]
     },
     "metadata": {
      "needs_background": "light"
     },
     "output_type": "display_data"
    },
    {
     "name": "stdout",
     "output_type": "stream",
     "text": [
      "6\n",
      "[0 0 0 0 0 0 1 0 0 0]\n"
     ]
    }
   ],
   "source": [
    "# Split data into train/test = 80%/20%\n",
    "x_vals_train,x_vals_test,y_vals_train,y_vals_test = train_test_split(x_v,y,test_size=0.2,random_state=1)\n",
    "#\n",
    "print('x_vals_train shape :\\n')\n",
    "print(x_vals_train.shape)\n",
    "#\n",
    "print('x_vals_test shape :\\n')\n",
    "print(x_vals_test.shape)\n",
    "#\n",
    "print('y_vals_train shape :\\n')\n",
    "print(y_vals_train.shape)\n",
    "#\n",
    "print('y_vals_test shape :\\n')\n",
    "print(y_vals_test.shape)\n",
    "#Visualization of shuffled data start\n",
    "plt.imshow(x_vals_train[10].reshape(8,8))\n",
    "plt.show()\n",
    "print(np.argmax(y_vals_train[10]))\n",
    "print(y_vals_train[10])"
   ]
  },
  {
   "cell_type": "code",
   "execution_count": 26,
   "metadata": {},
   "outputs": [
    {
     "data": {
      "text/plain": [
       "array([[0.        , 0.        , 0.6       , ..., 0.73333333, 0.07692308,\n",
       "        0.        ],\n",
       "       [0.        , 0.        , 0.73333333, ..., 0.26666667, 0.        ,\n",
       "        0.        ],\n",
       "       [0.        , 0.        , 0.6       , ..., 0.53333333, 0.        ,\n",
       "        0.        ],\n",
       "       ...,\n",
       "       [0.        , 0.        , 0.        , ..., 0.2       , 0.        ,\n",
       "        0.        ],\n",
       "       [0.        , 0.        , 0.13333333, ..., 0.        , 0.        ,\n",
       "        0.        ],\n",
       "       [0.        , 0.        , 0.        , ..., 0.66666667, 0.        ,\n",
       "        0.        ]])"
      ]
     },
     "execution_count": 26,
     "metadata": {},
     "output_type": "execute_result"
    }
   ],
   "source": [
    "#Visualization of shuffled data end\n",
    "scaler = MinMaxScaler()\n",
    "x_vals_train = scaler.fit_transform(x_vals_train)\n",
    "x_vals_test = scaler.fit_transform(x_vals_test)\n",
    "x_vals_test"
   ]
  },
  {
   "cell_type": "code",
   "execution_count": 27,
   "metadata": {},
   "outputs": [],
   "source": [
    "# Declare batch size\n",
    "batch_size = 10\n",
    "\n",
    "# Initialize placeholders\n",
    "x_data = tf.placeholder(shape=[None, 64], dtype=tf.float32)\n",
    "y_target = tf.placeholder(shape=[None, 10], dtype=tf.float32)"
   ]
  },
  {
   "cell_type": "code",
   "execution_count": 28,
   "metadata": {},
   "outputs": [
    {
     "name": "stdout",
     "output_type": "stream",
     "text": [
      "WARNING:tensorflow:From C:\\Users\\USER\\Anaconda3\\envs\\intuitive-deep-learning\\lib\\site-packages\\tensorflow\\python\\framework\\op_def_library.py:263: colocate_with (from tensorflow.python.framework.ops) is deprecated and will be removed in a future version.\n",
      "Instructions for updating:\n",
      "Colocations handled automatically by placer.\n"
     ]
    }
   ],
   "source": [
    "# Create variables for both Neural Network Layers\n",
    "#single hidden layers\n",
    "n_nodes_hl1 = 24\n",
    "\n",
    "\n",
    "A_1 = tf.Variable(tf.random_normal(shape=[64,n_nodes_hl1])) # inputs -> hidden nodes\n",
    "b_1 = tf.Variable(tf.random_normal(shape=[n_nodes_hl1]))   # one biases for each hidden node\n",
    "#\n",
    "A_O = tf.Variable(tf.random_normal(shape=[n_nodes_hl1,10])) # inputs -> hidden nodes\n",
    "b_O = tf.Variable(tf.random_normal(shape=[10]))   # one biases for each hidden node"
   ]
  },
  {
   "cell_type": "code",
   "execution_count": 29,
   "metadata": {},
   "outputs": [
    {
     "data": {
      "text/plain": [
       "<tf.Tensor 'Sub:0' shape=(?, 10) dtype=float32>"
      ]
     },
     "execution_count": 29,
     "metadata": {},
     "output_type": "execute_result"
    }
   ],
   "source": [
    "hidden_output_0 = tf.add(tf.matmul(x_data, A_1), b_1)\n",
    "hidden_a0_0 = tf.nn.sigmoid(hidden_output_0)\n",
    "\n",
    "hidden_output = tf.add(tf.matmul(hidden_a0_0, A_O), b_O)\n",
    "final_output = tf.nn.sigmoid(hidden_output)\n",
    "\n",
    "#final_output = tf.add(tf.matmul(hidden_output_2, A_O), b_O)\n",
    "\n",
    "#difference \n",
    "diff = tf.subtract(final_output, y_target)\n",
    "#######################################################"
   ]
  },
  {
   "cell_type": "code",
   "execution_count": 30,
   "metadata": {},
   "outputs": [
    {
     "name": "stdout",
     "output_type": "stream",
     "text": [
      "WARNING:tensorflow:From <ipython-input-30-0206d8a6ddae>:3: div (from tensorflow.python.ops.math_ops) is deprecated and will be removed in a future version.\n",
      "Instructions for updating:\n",
      "Deprecated in favor of operator or tf.math.divide.\n",
      "(64, 24)\n",
      "(64, 24)\n",
      "Step 100, training batch accuracy 100 %\n",
      "Step 100, test batch accuracy 85 %\n",
      "Step 200, training batch accuracy 90 %\n",
      "Step 200, test batch accuracy 95 %\n",
      "Step 300, training batch accuracy 100 %\n",
      "Step 300, test batch accuracy 95 %\n",
      "Step 400, training batch accuracy 100 %\n",
      "Step 400, test batch accuracy 95 %\n",
      "Step 500, training batch accuracy 100 %\n",
      "Step 500, test batch accuracy 100 %\n",
      "Step 600, training batch accuracy 100 %\n",
      "Step 600, test batch accuracy 100 %\n",
      "Step 700, training batch accuracy 100 %\n",
      "Step 700, test batch accuracy 100 %\n",
      "Step 800, training batch accuracy 100 %\n",
      "Step 800, test batch accuracy 100 %\n",
      "Step 900, training batch accuracy 100 %\n",
      "Step 900, test batch accuracy 100 %\n",
      "Step 1000, training batch accuracy 100 %\n",
      "Step 1000, test batch accuracy 100 %\n"
     ]
    }
   ],
   "source": [
    "#def derivative of sigmoid function\n",
    "def sigma(x):\n",
    "    return tf.div(tf.constant(1.0),tf.add(tf.constant(1.0),tf.exp(tf.negative(x))))\n",
    "def sigmoidd(x):\n",
    "    return tf.multiply(sigma(x),tf.subtract(tf.constant(1.0),sigma(x)))\n",
    "\n",
    "########################################################\n",
    "#### Back Propagation\n",
    "'''\n",
    "d_z_2 = tf.multiply(diff, sigmaprime(z_2))\n",
    "d_b_2 = d_z_2\n",
    "d_w_2 = tf.matmul(tf.transpose(a_1), d_z_2)\n",
    "\n",
    "d_a_1 = tf.matmul(d_z_2, tf.transpose(w_2))\n",
    "d_z_1 = tf.multiply(d_a_1, sigmaprime(z_1))\n",
    "d_b_1 = d_z_1\n",
    "d_w_1 = tf.matmul(tf.transpose(a_0), d_z_1)    \n",
    "'''\n",
    "\n",
    "d_hidden_output= tf.multiply(diff,sigmoidd(hidden_output))\n",
    "d_b_O = d_hidden_output\n",
    "d_A_O = tf.matmul(tf.transpose(hidden_a0_0),d_hidden_output)\n",
    "\n",
    "#\n",
    "d_hidden_a0_0 = tf.matmul(d_hidden_output ,tf.transpose(A_O))\n",
    "d_hidden_output_0 = tf.multiply(d_hidden_a0_0 ,sigmoidd(hidden_output_0))\n",
    "d_b_1 = d_hidden_output_0 \n",
    "d_A_1 = tf.matmul(tf.transpose(x_data),d_hidden_output_0)\n",
    "print(d_A_1.shape)\n",
    "print(A_1.shape)\n",
    "######################################################################\n",
    "#updating the network\n",
    "eta = tf.constant(0.5)#learning rate\n",
    "step = [tf.assign(A_1,tf.subtract(A_1,tf.multiply(eta,d_A_1))),\n",
    "        tf.assign(b_1,tf.subtract(b_1,tf.multiply(eta,tf.reduce_mean(d_b_1,axis=[0])))),\n",
    "        tf.assign(A_O,tf.subtract(A_O,tf.multiply(eta,d_A_O))),\n",
    "        tf.assign(b_O,tf.subtract(b_O,tf.multiply(eta,tf.reduce_mean(d_b_O,axis=[0]))))\n",
    "]\n",
    "\n",
    "########################################################\n",
    "# Declare loss function\n",
    "'''\n",
    "loss =  tf.reduce_mean(tf.nn.softmax_cross_entropy_with_logits_v2(labels=y_target ,logits=final_output))\n",
    "loss= tf.multiply(diff, loss)\n",
    "\n",
    "# Declare optimizer\n",
    "my_opt =  tf.train.GradientDescentOptimizer(0.1)\n",
    "#my_opt = tf.train.GradientDescentOptimizer(0.001)\n",
    "train_step = my_opt.minimize(loss)\n",
    "'''\n",
    "# Accuracy calculation\n",
    "correct_prediction = tf.equal(tf.argmax(final_output, 1), tf.argmax(y_target, 1))\n",
    "accuracy = tf.reduce_mean(tf.cast(correct_prediction, tf.float32))\n",
    "\n",
    "# Initialize variables\n",
    "sess = tf.InteractiveSession()\n",
    "sess.run(tf.global_variables_initializer())\n",
    "\n",
    "#sess.run(tf.global_variables_initializer())\n",
    "# Training loop\n",
    "loss_vec = []\n",
    "test_loss = []\n",
    "for i in range(1000):\n",
    "    rand_index = np.random.choice(len(x_vals_train), size=batch_size)\n",
    "    rand_x = x_vals_train[rand_index]\n",
    "    #rand_y = np.transpose([y_vals_train[rand_index]])\n",
    "    rand_y = y_vals_train[rand_index]\n",
    "    #sess.run(train_step, feed_dict={x_data: rand_x, y_target: rand_y})\n",
    "    sess.run(step, feed_dict={x_data: rand_x, y_target: rand_y})\n",
    "    #temp_loss = sess.run(loss, feed_dict={x_data: rand_x, y_target: rand_y})\n",
    "    #loss_vec.append(np.sqrt(temp_loss))\n",
    "    \n",
    "    #test_temp_loss = sess.run(loss, feed_dict={x_data: x_vals_test, y_target: np.transpose([y_vals_test])})\n",
    "    #test_temp_loss = sess.run(loss, feed_dict={x_data: x_vals_test, y_target: y_vals_test})\n",
    "    #test_loss.append(np.sqrt(test_temp_loss))\n",
    "    if (i+1)%100==0:\n",
    "        j = i +1\n",
    "        #print('Generation: ' + str(i+1) + '. Loss_training = ' + str(temp_loss))\n",
    "        train_accuracy = accuracy.eval(feed_dict={x_data: rand_x, y_target: rand_y})\n",
    "        print(\"Step %d, training batch accuracy %g %%\"%(j, train_accuracy*100))\n",
    "       # print('Generation: ' + str(i+1) + '. Loss_test = ' + str(test_temp_loss))\n",
    "        #test_accuracy = accuracy.eval(feed_dict={x_data: x_vals_test, y_target:np.transpose([y_vals_test])})\n",
    "        test_accuracy = accuracy.eval(feed_dict={x_data: x_vals_test, y_target:y_vals_test})\n",
    "        print(\"Step %d, test batch accuracy %g %%\"%(j, test_accuracy*100))\n",
    "\n",
    "\n",
    "sess.close()"
   ]
  },
  {
   "cell_type": "code",
   "execution_count": null,
   "metadata": {},
   "outputs": [],
   "source": []
  }
 ],
 "metadata": {
  "kernelspec": {
   "display_name": "Python 3",
   "language": "python",
   "name": "python3"
  },
  "language_info": {
   "codemirror_mode": {
    "name": "ipython",
    "version": 3
   },
   "file_extension": ".py",
   "mimetype": "text/x-python",
   "name": "python",
   "nbconvert_exporter": "python",
   "pygments_lexer": "ipython3",
   "version": "3.7.3"
  }
 },
 "nbformat": 4,
 "nbformat_minor": 2
}
